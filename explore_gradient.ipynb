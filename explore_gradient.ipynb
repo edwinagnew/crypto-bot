{
 "cells": [
  {
   "cell_type": "code",
   "execution_count": 1,
   "metadata": {},
   "outputs": [],
   "source": [
    "import numpy as np\n",
    "import pandas as pd"
   ]
  },
  {
   "cell_type": "code",
   "execution_count": 2,
   "metadata": {},
   "outputs": [
    {
     "data": {
      "text/html": [
       "<div>\n",
       "<style scoped>\n",
       "    .dataframe tbody tr th:only-of-type {\n",
       "        vertical-align: middle;\n",
       "    }\n",
       "\n",
       "    .dataframe tbody tr th {\n",
       "        vertical-align: top;\n",
       "    }\n",
       "\n",
       "    .dataframe thead th {\n",
       "        text-align: right;\n",
       "    }\n",
       "</style>\n",
       "<table border=\"1\" class=\"dataframe\">\n",
       "  <thead>\n",
       "    <tr style=\"text-align: right;\">\n",
       "      <th></th>\n",
       "      <th>Timestamp unix</th>\n",
       "      <th>Timestamp</th>\n",
       "      <th>open</th>\n",
       "      <th>high</th>\n",
       "      <th>low</th>\n",
       "      <th>close</th>\n",
       "      <th>Volume (BTC)</th>\n",
       "      <th>Volume (Currency)</th>\n",
       "      <th>Weighted_Price</th>\n",
       "    </tr>\n",
       "  </thead>\n",
       "  <tbody>\n",
       "    <tr>\n",
       "      <td>0</td>\n",
       "      <td>43901.00000</td>\n",
       "      <td>11/03/2020 0:00</td>\n",
       "      <td>7889.6</td>\n",
       "      <td>7889.6</td>\n",
       "      <td>7886.6</td>\n",
       "      <td>7886.6</td>\n",
       "      <td>0.09</td>\n",
       "      <td>675.70</td>\n",
       "      <td>7888.58</td>\n",
       "    </tr>\n",
       "    <tr>\n",
       "      <td>1</td>\n",
       "      <td>43901.00069</td>\n",
       "      <td>11/03/2020 0:01</td>\n",
       "      <td>7884.8</td>\n",
       "      <td>7884.8</td>\n",
       "      <td>7870.0</td>\n",
       "      <td>7870.0</td>\n",
       "      <td>36.95</td>\n",
       "      <td>290927.80</td>\n",
       "      <td>7873.70</td>\n",
       "    </tr>\n",
       "    <tr>\n",
       "      <td>2</td>\n",
       "      <td>43901.00139</td>\n",
       "      <td>11/03/2020 0:02</td>\n",
       "      <td>7870.3</td>\n",
       "      <td>7872.0</td>\n",
       "      <td>7865.0</td>\n",
       "      <td>7870.7</td>\n",
       "      <td>3.33</td>\n",
       "      <td>26182.39</td>\n",
       "      <td>7869.54</td>\n",
       "    </tr>\n",
       "    <tr>\n",
       "      <td>3</td>\n",
       "      <td>43901.00208</td>\n",
       "      <td>11/03/2020 0:03</td>\n",
       "      <td>7875.0</td>\n",
       "      <td>7875.1</td>\n",
       "      <td>7874.2</td>\n",
       "      <td>7875.1</td>\n",
       "      <td>1.90</td>\n",
       "      <td>14924.35</td>\n",
       "      <td>7874.81</td>\n",
       "    </tr>\n",
       "    <tr>\n",
       "      <td>4</td>\n",
       "      <td>43901.00278</td>\n",
       "      <td>11/03/2020 0:04</td>\n",
       "      <td>7876.1</td>\n",
       "      <td>7882.4</td>\n",
       "      <td>7876.1</td>\n",
       "      <td>7882.4</td>\n",
       "      <td>2.64</td>\n",
       "      <td>20768.79</td>\n",
       "      <td>7879.93</td>\n",
       "    </tr>\n",
       "    <tr>\n",
       "      <td>5</td>\n",
       "      <td>43901.00347</td>\n",
       "      <td>11/03/2020 0:05</td>\n",
       "      <td>7887.2</td>\n",
       "      <td>7899.5</td>\n",
       "      <td>7886.5</td>\n",
       "      <td>7899.5</td>\n",
       "      <td>3.88</td>\n",
       "      <td>30609.61</td>\n",
       "      <td>7892.74</td>\n",
       "    </tr>\n",
       "    <tr>\n",
       "      <td>6</td>\n",
       "      <td>43901.00417</td>\n",
       "      <td>11/03/2020 0:06</td>\n",
       "      <td>7898.2</td>\n",
       "      <td>7898.2</td>\n",
       "      <td>7896.1</td>\n",
       "      <td>7896.8</td>\n",
       "      <td>1.18</td>\n",
       "      <td>9314.75</td>\n",
       "      <td>7896.85</td>\n",
       "    </tr>\n",
       "    <tr>\n",
       "      <td>7</td>\n",
       "      <td>43901.00486</td>\n",
       "      <td>11/03/2020 0:07</td>\n",
       "      <td>7897.0</td>\n",
       "      <td>7904.9</td>\n",
       "      <td>7897.0</td>\n",
       "      <td>7904.9</td>\n",
       "      <td>0.15</td>\n",
       "      <td>1200.79</td>\n",
       "      <td>7901.67</td>\n",
       "    </tr>\n",
       "    <tr>\n",
       "      <td>8</td>\n",
       "      <td>43901.00556</td>\n",
       "      <td>11/03/2020 0:08</td>\n",
       "      <td>7904.9</td>\n",
       "      <td>7909.1</td>\n",
       "      <td>7904.4</td>\n",
       "      <td>7908.0</td>\n",
       "      <td>20.78</td>\n",
       "      <td>164332.90</td>\n",
       "      <td>7906.84</td>\n",
       "    </tr>\n",
       "    <tr>\n",
       "      <td>9</td>\n",
       "      <td>43901.00625</td>\n",
       "      <td>11/03/2020 0:09</td>\n",
       "      <td>7905.1</td>\n",
       "      <td>7906.9</td>\n",
       "      <td>7901.1</td>\n",
       "      <td>7906.9</td>\n",
       "      <td>11.16</td>\n",
       "      <td>88228.65</td>\n",
       "      <td>7904.47</td>\n",
       "    </tr>\n",
       "  </tbody>\n",
       "</table>\n",
       "</div>"
      ],
      "text/plain": [
       "   Timestamp unix        Timestamp    open    high     low   close  \\\n",
       "0     43901.00000  11/03/2020 0:00  7889.6  7889.6  7886.6  7886.6   \n",
       "1     43901.00069  11/03/2020 0:01  7884.8  7884.8  7870.0  7870.0   \n",
       "2     43901.00139  11/03/2020 0:02  7870.3  7872.0  7865.0  7870.7   \n",
       "3     43901.00208  11/03/2020 0:03  7875.0  7875.1  7874.2  7875.1   \n",
       "4     43901.00278  11/03/2020 0:04  7876.1  7882.4  7876.1  7882.4   \n",
       "5     43901.00347  11/03/2020 0:05  7887.2  7899.5  7886.5  7899.5   \n",
       "6     43901.00417  11/03/2020 0:06  7898.2  7898.2  7896.1  7896.8   \n",
       "7     43901.00486  11/03/2020 0:07  7897.0  7904.9  7897.0  7904.9   \n",
       "8     43901.00556  11/03/2020 0:08  7904.9  7909.1  7904.4  7908.0   \n",
       "9     43901.00625  11/03/2020 0:09  7905.1  7906.9  7901.1  7906.9   \n",
       "\n",
       "   Volume (BTC)  Volume (Currency)  Weighted_Price  \n",
       "0          0.09             675.70         7888.58  \n",
       "1         36.95          290927.80         7873.70  \n",
       "2          3.33           26182.39         7869.54  \n",
       "3          1.90           14924.35         7874.81  \n",
       "4          2.64           20768.79         7879.93  \n",
       "5          3.88           30609.61         7892.74  \n",
       "6          1.18            9314.75         7896.85  \n",
       "7          0.15            1200.79         7901.67  \n",
       "8         20.78          164332.90         7906.84  \n",
       "9         11.16           88228.65         7904.47  "
      ]
     },
     "execution_count": 2,
     "metadata": {},
     "output_type": "execute_result"
    }
   ],
   "source": [
    "df = pd.read_csv('data/kraken_cleaned.csv')\n",
    "df.head(10)"
   ]
  },
  {
   "cell_type": "code",
   "execution_count": 3,
   "metadata": {},
   "outputs": [
    {
     "data": {
      "text/plain": [
       "<Figure size 640x480 with 1 Axes>"
      ]
     },
     "metadata": {},
     "output_type": "display_data"
    }
   ],
   "source": [
    "import matplotlib.pyplot as plt\n",
    "plt.plot(df.head(10).index, df.head(10)['Weighted_Price'])\n",
    "plt.show()"
   ]
  },
  {
   "cell_type": "code",
   "execution_count": 4,
   "metadata": {},
   "outputs": [
    {
     "data": {
      "text/plain": [
       "array([ -0.333, -15.213, -19.373, -14.103,  -8.983,   3.827,   7.937,\n",
       "        12.757,  17.927,  15.557])"
      ]
     },
     "execution_count": 4,
     "metadata": {},
     "output_type": "execute_result"
    }
   ],
   "source": [
    "df.head(10).Weighted_Price.values - np.mean(df.head(10).Weighted_Price.values)"
   ]
  },
  {
   "cell_type": "code",
   "execution_count": 5,
   "metadata": {},
   "outputs": [
    {
     "data": {
      "text/plain": [
       "array([-14.88 ,  -9.52 ,   0.555,   5.195,   8.965,   8.46 ,   4.465,\n",
       "         4.995,   1.4  ,  -2.37 ])"
      ]
     },
     "execution_count": 5,
     "metadata": {},
     "output_type": "execute_result"
    }
   ],
   "source": [
    "slope = np.gradient(df.head(10).Weighted_Price)\n",
    "slope"
   ]
  },
  {
   "cell_type": "code",
   "execution_count": 6,
   "metadata": {},
   "outputs": [
    {
     "data": {
      "text/plain": [
       "array([ 5.36  ,  7.7175,  7.3575,  4.205 ,  1.6325, -2.25  , -1.7325,\n",
       "       -1.5325, -3.6825, -3.77  ])"
      ]
     },
     "execution_count": 6,
     "metadata": {},
     "output_type": "execute_result"
    }
   ],
   "source": [
    "slope2 = np.gradient(slope)\n",
    "slope2"
   ]
  },
  {
   "cell_type": "code",
   "execution_count": 7,
   "metadata": {},
   "outputs": [
    {
     "data": {
      "image/png": "[encoded data removed]",
      "text/plain": [
       "<Figure size 432x288 with 1 Axes>"
      ]
     },
     "metadata": {
      "needs_background": "light"
     },
     "output_type": "display_data"
    }
   ],
   "source": [
    "plt.plot(df.head(10)['Weighted_Price'] - np.mean(df.head(10).Weighted_Price), c='red')\n",
    "plt.plot(slope)\n",
    "plt.plot(slope2, c='green')\n",
    "plt.show()"
   ]
  },
  {
   "cell_type": "code",
   "execution_count": 8,
   "metadata": {},
   "outputs": [
    {
     "name": "stdout",
     "output_type": "stream",
     "text": [
      "[1.  1.5 2.5 3.5 4.5 5. ]\n",
      "[0.5  0.75 1.25 1.75 2.25 2.5 ]\n"
     ]
    }
   ],
   "source": [
    "y = np.array([1, 2, 4, 7, 11, 16], dtype=np.float)\n",
    "print(np.gradient(y))\n",
    "print(np.gradient(y,2))"
   ]
  },
  {
   "cell_type": "code",
   "execution_count": 9,
   "metadata": {},
   "outputs": [],
   "source": [
    "def gradient_edwin(y1,y2):\n",
    "    return (y2-y1)/60"
   ]
  },
  {
   "cell_type": "code",
   "execution_count": 10,
   "metadata": {},
   "outputs": [
    {
     "name": "stdout",
     "output_type": "stream",
     "text": [
      "[-0.24800000000000183, -0.0693333333333309, 0.0878333333333406, 0.08533333333333151, 0.2134999999999915, 0.0685000000000097, 0.08033333333332848, 0.08616666666666788, -0.03949999999999818]\n"
     ]
    },
    {
     "data": {
      "image/png": "[encoded data removed]",
      "text/plain": [
       "<Figure size 432x288 with 1 Axes>"
      ]
     },
     "metadata": {
      "needs_background": "light"
     },
     "output_type": "display_data"
    }
   ],
   "source": [
    "grads = []\n",
    "y1 = df.head(10).Weighted_Price.values[0]\n",
    "for y2 in df.head(10).Weighted_Price.values[1:]:\n",
    "    grads.append(gradient_edwin(y1,y2))\n",
    "    y1 = y2\n",
    "print(grads)\n",
    "#plt.plot(df.head(10)['Weighted_Price'] - np.mean(df.head(10).Weighted_Price), c='red')\n",
    "plt.plot(grads)\n",
    "plt.show()"
   ]
  },
  {
   "cell_type": "code",
   "execution_count": 14,
   "metadata": {},
   "outputs": [
    {
     "name": "stdout",
     "output_type": "stream",
     "text": [
      "[7888.58 7873.7  7869.54 7874.81 7879.93 7892.74 7896.85 7901.67 7906.84\n",
      " 7904.47]\n"
     ]
    },
    {
     "data": {
      "text/plain": [
       "[<matplotlib.lines.Line2D at 0x1192bfe50>]"
      ]
     },
     "execution_count": 14,
     "metadata": {},
     "output_type": "execute_result"
    },
    {
     "data": {
      "image/png": "[encoded data removed]",
      "text/plain": [
       "<Figure size 432x288 with 1 Axes>"
      ]
     },
     "metadata": {
      "needs_background": "light"
     },
     "output_type": "display_data"
    }
   ],
   "source": [
    "print(df.head(10).Weighted_Price.values)\n",
    "plt.plot(df.head(10)['Weighted_Price'], c='red')"
   ]
  },
  {
   "cell_type": "code",
   "execution_count": 17,
   "metadata": {},
   "outputs": [
    {
     "name": "stdout",
     "output_type": "stream",
     "text": [
      "second_grad  -0.4133333333333364\n",
      "second_grad  0.29777777777778486\n",
      "second_grad  0.26194444444445253\n",
      "second_grad  -0.00416666666668182\n",
      "second_grad  0.21361111111109998\n",
      "second_grad  -0.24166666666663636\n",
      "second_grad  0.01972222222219796\n",
      "second_grad  0.009722222222232324\n",
      "second_grad  -0.20944444444444343\n"
     ]
    }
   ],
   "source": [
    "data = df.head(10).Weighted_Price\n",
    "last_g = 0\n",
    "last_p = data[0]\n",
    "for d in data[1:]:\n",
    "    grad = (d-last_p)/60\n",
    "    second_grad = (grad-last_g)/60\n",
    "    print(\"second_grad \", second_grad*100)\n",
    "    last_g = grad\n",
    "    last_p = d"
   ]
  },
  {
   "cell_type": "code",
   "execution_count": 85,
   "metadata": {},
   "outputs": [],
   "source": [
    "t_s = df.Weighted_Price.values[1800:2500]\n",
    "arrs = []\n",
    "j = 10\n",
    "for i in range(0,len(t_s), j): \n",
    "    arrs.append(t_s[i:i+j])"
   ]
  },
  {
   "cell_type": "code",
   "execution_count": 92,
   "metadata": {},
   "outputs": [
    {
     "data": {
      "text/plain": [
       "[<matplotlib.lines.Line2D at 0x11b8bccd0>]"
      ]
     },
     "execution_count": 92,
     "metadata": {},
     "output_type": "execute_result"
    },
    {
     "data": {
      "image/png": "[encoded data removed]",
      "text/plain": [
       "<Figure size 432x288 with 1 Axes>"
      ]
     },
     "metadata": {
      "needs_background": "light"
     },
     "output_type": "display_data"
    }
   ],
   "source": [
    "t = [4814.07, 4792.32, 4800.41, 4769.26, 4729.91, 4727.99, 4729.33, 4706.6, 4715.05, 4714.74]\n",
    "plt.plot(t)"
   ]
  },
  {
   "cell_type": "code",
   "execution_count": 94,
   "metadata": {},
   "outputs": [
    {
     "data": {
      "text/plain": [
       "[<matplotlib.lines.Line2D at 0x11b826590>]"
      ]
     },
     "execution_count": 94,
     "metadata": {},
     "output_type": "execute_result"
    },
    {
     "data": {
      "image/png": "[encoded data removed]",
      "text/plain": [
       "<Figure size 432x288 with 1 Axes>"
      ]
     },
     "metadata": {
      "needs_background": "light"
     },
     "output_type": "display_data"
    }
   ],
   "source": [
    "t = [6235.81, 6275.05, 6312.5, 6252.11, 6300.09, 6275.87, 6353.3, 6313.07, 6195.4, 6195.08]\n",
    "plt.plot(t)"
   ]
  },
  {
   "cell_type": "code",
   "execution_count": 95,
   "metadata": {},
   "outputs": [
    {
     "data": {
      "text/plain": [
       "[<matplotlib.lines.Line2D at 0x11ba85490>]"
      ]
     },
     "execution_count": 95,
     "metadata": {},
     "output_type": "execute_result"
    },
    {
     "data": {
      "image/png": "[encoded data removed]",
      "text/plain": [
       "<Figure size 432x288 with 1 Axes>"
      ]
     },
     "metadata": {
      "needs_background": "light"
     },
     "output_type": "display_data"
    }
   ],
   "source": [
    "t =  [5967.79, 5978.02, 6005.38, 6000.37, 5981.26, 5951.74, 5952.1, 5977.54, 5929.91, 5929.71]\n",
    "plt.plot(t)"
   ]
  },
  {
   "cell_type": "code",
   "execution_count": 93,
   "metadata": {},
   "outputs": [
    {
     "name": "stdout",
     "output_type": "stream",
     "text": [
      "[-2.1911111111110384, -3.623333333333297, -5.233333333333373, -2.9588888888888, -1.9955555555555595, 2.5744444444444525, -5.216666666666646, -2.2177777777777816, 1.873333333333398, -0.7166666666666465, -4.398888888888905, -0.0044444444444404025, -4.958888888888901, 5.073333333333317, 4.896666666666736, -0.9733333333333576, -2.275555555555608, -1.4766666666666626, 1.869999999999992, -3.373333333333398, 2.5777777777777575, -1.94555555555558, 1.0044444444444405, 0.29555555555553936, -1.1977777777777494, -9.762222222222185, -1.9133333333333615, -56.453333333333326, -90.24777777777783, 5.436666666666598, 33.2944444444444, 2.709999999999935, -23.982222222222237, -8.828888888888892, -20.92999999999999, 14.552222222222149, -0.5655555555555717, 20.253333333333305, -17.73888888888895, -9.038888888888827, -11.546666666666674, 2.5766666666666223, -3.7622222222222867, 6.615555555555551, -0.3844444444444485, -9.456666666666731, 3.4755555555555273, 11.744444444444424, -6.002222222222169, 8.94333333333341, 1.2488888888889658, 16.776666666666742, -1.4044444444444808, -2.3122222222222666, 0.21666666666664647, 1.7288888888889333, -3.284444444444489, 1.4077777777777858, 5.053333333333285, -0.023333333333337376, -4.909999999999956, 4.823333333333317, -2.119999999999992, 1.1811111111111232, -10.559999999999995, 9.35000000000006, 8.044444444444505, -4.634444444444449, -2.6211111111111274, -5.855555555555536]\n",
      "-2.478539682539685\n"
     ]
    }
   ],
   "source": [
    "avgs = []\n",
    "for t in arrs:\n",
    "    grads = []\n",
    "    for i in range(1,len(t)):\n",
    "        grads.append(t[i] - t[i-1])\n",
    "    #print(np.mean(grads))\n",
    "    avgs.append(np.mean(grads))\n",
    "    \n",
    "print(avgs)\n",
    "print(np.mean(avgs))"
   ]
  },
  {
   "cell_type": "code",
   "execution_count": 83,
   "metadata": {},
   "outputs": [
    {
     "data": {
      "text/html": [
       "<div>\n",
       "<style scoped>\n",
       "    .dataframe tbody tr th:only-of-type {\n",
       "        vertical-align: middle;\n",
       "    }\n",
       "\n",
       "    .dataframe tbody tr th {\n",
       "        vertical-align: top;\n",
       "    }\n",
       "\n",
       "    .dataframe thead th {\n",
       "        text-align: right;\n",
       "    }\n",
       "</style>\n",
       "<table border=\"1\" class=\"dataframe\">\n",
       "  <thead>\n",
       "    <tr style=\"text-align: right;\">\n",
       "      <th></th>\n",
       "      <th>Timestamp unix</th>\n",
       "      <th>Timestamp</th>\n",
       "      <th>open</th>\n",
       "      <th>high</th>\n",
       "      <th>low</th>\n",
       "      <th>close</th>\n",
       "      <th>Volume (BTC)</th>\n",
       "      <th>Volume (Currency)</th>\n",
       "      <th>Weighted_Price</th>\n",
       "    </tr>\n",
       "  </thead>\n",
       "  <tbody>\n",
       "    <tr>\n",
       "      <td>0</td>\n",
       "      <td>43901.00000</td>\n",
       "      <td>11/03/2020 0:00</td>\n",
       "      <td>7889.6</td>\n",
       "      <td>7889.6</td>\n",
       "      <td>7886.6</td>\n",
       "      <td>7886.6</td>\n",
       "      <td>0.09</td>\n",
       "      <td>675.70</td>\n",
       "      <td>7888.58</td>\n",
       "    </tr>\n",
       "    <tr>\n",
       "      <td>1</td>\n",
       "      <td>43901.00069</td>\n",
       "      <td>11/03/2020 0:01</td>\n",
       "      <td>7884.8</td>\n",
       "      <td>7884.8</td>\n",
       "      <td>7870.0</td>\n",
       "      <td>7870.0</td>\n",
       "      <td>36.95</td>\n",
       "      <td>290927.80</td>\n",
       "      <td>7873.70</td>\n",
       "    </tr>\n",
       "    <tr>\n",
       "      <td>2</td>\n",
       "      <td>43901.00139</td>\n",
       "      <td>11/03/2020 0:02</td>\n",
       "      <td>7870.3</td>\n",
       "      <td>7872.0</td>\n",
       "      <td>7865.0</td>\n",
       "      <td>7870.7</td>\n",
       "      <td>3.33</td>\n",
       "      <td>26182.39</td>\n",
       "      <td>7869.54</td>\n",
       "    </tr>\n",
       "    <tr>\n",
       "      <td>3</td>\n",
       "      <td>43901.00208</td>\n",
       "      <td>11/03/2020 0:03</td>\n",
       "      <td>7875.0</td>\n",
       "      <td>7875.1</td>\n",
       "      <td>7874.2</td>\n",
       "      <td>7875.1</td>\n",
       "      <td>1.90</td>\n",
       "      <td>14924.35</td>\n",
       "      <td>7874.81</td>\n",
       "    </tr>\n",
       "    <tr>\n",
       "      <td>4</td>\n",
       "      <td>43901.00278</td>\n",
       "      <td>11/03/2020 0:04</td>\n",
       "      <td>7876.1</td>\n",
       "      <td>7882.4</td>\n",
       "      <td>7876.1</td>\n",
       "      <td>7882.4</td>\n",
       "      <td>2.64</td>\n",
       "      <td>20768.79</td>\n",
       "      <td>7879.93</td>\n",
       "    </tr>\n",
       "    <tr>\n",
       "      <td>...</td>\n",
       "      <td>...</td>\n",
       "      <td>...</td>\n",
       "      <td>...</td>\n",
       "      <td>...</td>\n",
       "      <td>...</td>\n",
       "      <td>...</td>\n",
       "      <td>...</td>\n",
       "      <td>...</td>\n",
       "      <td>...</td>\n",
       "    </tr>\n",
       "    <tr>\n",
       "      <td>8636</td>\n",
       "      <td>43906.99722</td>\n",
       "      <td>16/03/2020 23:56</td>\n",
       "      <td>5018.6</td>\n",
       "      <td>5028.5</td>\n",
       "      <td>5017.4</td>\n",
       "      <td>5028.2</td>\n",
       "      <td>0.27</td>\n",
       "      <td>1353.55</td>\n",
       "      <td>5026.01</td>\n",
       "    </tr>\n",
       "    <tr>\n",
       "      <td>8637</td>\n",
       "      <td>43906.99792</td>\n",
       "      <td>16/03/2020 23:57</td>\n",
       "      <td>5028.7</td>\n",
       "      <td>5042.9</td>\n",
       "      <td>5028.7</td>\n",
       "      <td>5033.1</td>\n",
       "      <td>22.28</td>\n",
       "      <td>112191.66</td>\n",
       "      <td>5036.61</td>\n",
       "    </tr>\n",
       "    <tr>\n",
       "      <td>8638</td>\n",
       "      <td>43906.99861</td>\n",
       "      <td>16/03/2020 23:58</td>\n",
       "      <td>5036.7</td>\n",
       "      <td>5036.9</td>\n",
       "      <td>5030.0</td>\n",
       "      <td>5030.0</td>\n",
       "      <td>1.58</td>\n",
       "      <td>7929.06</td>\n",
       "      <td>5032.63</td>\n",
       "    </tr>\n",
       "    <tr>\n",
       "      <td>8639</td>\n",
       "      <td>43906.99931</td>\n",
       "      <td>16/03/2020 23:59</td>\n",
       "      <td>5030.0</td>\n",
       "      <td>5042.3</td>\n",
       "      <td>5030.0</td>\n",
       "      <td>5042.3</td>\n",
       "      <td>3.49</td>\n",
       "      <td>17571.34</td>\n",
       "      <td>5032.51</td>\n",
       "    </tr>\n",
       "    <tr>\n",
       "      <td>8640</td>\n",
       "      <td>43907.00000</td>\n",
       "      <td>17/03/2020 0:00</td>\n",
       "      <td>5044.0</td>\n",
       "      <td>5110.0</td>\n",
       "      <td>5044.0</td>\n",
       "      <td>5075.0</td>\n",
       "      <td>103.06</td>\n",
       "      <td>523535.77</td>\n",
       "      <td>5080.03</td>\n",
       "    </tr>\n",
       "  </tbody>\n",
       "</table>\n",
       "<p>8641 rows × 9 columns</p>\n",
       "</div>"
      ],
      "text/plain": [
       "      Timestamp unix         Timestamp    open    high     low   close  \\\n",
       "0        43901.00000   11/03/2020 0:00  7889.6  7889.6  7886.6  7886.6   \n",
       "1        43901.00069   11/03/2020 0:01  7884.8  7884.8  7870.0  7870.0   \n",
       "2        43901.00139   11/03/2020 0:02  7870.3  7872.0  7865.0  7870.7   \n",
       "3        43901.00208   11/03/2020 0:03  7875.0  7875.1  7874.2  7875.1   \n",
       "4        43901.00278   11/03/2020 0:04  7876.1  7882.4  7876.1  7882.4   \n",
       "...              ...               ...     ...     ...     ...     ...   \n",
       "8636     43906.99722  16/03/2020 23:56  5018.6  5028.5  5017.4  5028.2   \n",
       "8637     43906.99792  16/03/2020 23:57  5028.7  5042.9  5028.7  5033.1   \n",
       "8638     43906.99861  16/03/2020 23:58  5036.7  5036.9  5030.0  5030.0   \n",
       "8639     43906.99931  16/03/2020 23:59  5030.0  5042.3  5030.0  5042.3   \n",
       "8640     43907.00000   17/03/2020 0:00  5044.0  5110.0  5044.0  5075.0   \n",
       "\n",
       "      Volume (BTC)  Volume (Currency)  Weighted_Price  \n",
       "0             0.09             675.70         7888.58  \n",
       "1            36.95          290927.80         7873.70  \n",
       "2             3.33           26182.39         7869.54  \n",
       "3             1.90           14924.35         7874.81  \n",
       "4             2.64           20768.79         7879.93  \n",
       "...            ...                ...             ...  \n",
       "8636          0.27            1353.55         5026.01  \n",
       "8637         22.28          112191.66         5036.61  \n",
       "8638          1.58            7929.06         5032.63  \n",
       "8639          3.49           17571.34         5032.51  \n",
       "8640        103.06          523535.77         5080.03  \n",
       "\n",
       "[8641 rows x 9 columns]"
      ]
     },
     "execution_count": 83,
     "metadata": {},
     "output_type": "execute_result"
    }
   ],
   "source": [
    "df"
   ]
  },
  {
   "cell_type": "code",
   "execution_count": 88,
   "metadata": {},
   "outputs": [
    {
     "data": {
      "text/plain": [
       "[<matplotlib.lines.Line2D at 0x11b497250>]"
      ]
     },
     "execution_count": 88,
     "metadata": {},
     "output_type": "execute_result"
    },
    {
     "data": {
      "image/png": "[encoded data removed]",
      "text/plain": [
       "<Figure size 432x288 with 1 Axes>"
      ]
     },
     "metadata": {
      "needs_background": "light"
     },
     "output_type": "display_data"
    }
   ],
   "source": [
    "plt.plot(df[2500:].Weighted_Price.values)"
   ]
  },
  {
   "cell_type": "code",
   "execution_count": null,
   "metadata": {},
   "outputs": [],
   "source": []
  }
 ],
 "metadata": {
  "kernelspec": {
   "display_name": "Python 3",
   "language": "python",
   "name": "python3"
  },
  "language_info": {
   "codemirror_mode": {
    "name": "ipython",
    "version": 3
   },
   "file_extension": ".py",
   "mimetype": "text/x-python",
   "name": "python",
   "nbconvert_exporter": "python",
   "pygments_lexer": "ipython3",
   "version": "3.7.4"
  }
 },
 "nbformat": 4,
 "nbformat_minor": 2
}
